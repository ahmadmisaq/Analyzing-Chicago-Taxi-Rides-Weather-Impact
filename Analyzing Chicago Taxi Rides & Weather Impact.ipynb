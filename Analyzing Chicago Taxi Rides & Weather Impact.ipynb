{
 "cells": [
  {
   "cell_type": "markdown",
   "metadata": {},
   "source": [
    "**Analyzing Chicago Taxi Rides & Weather Impact**"
   ]
  },
  {
   "cell_type": "markdown",
   "metadata": {},
   "source": [
    "**Project**\n",
    "In this project, we analyzed Chicago taxi data to find popular companies, top drop-off locations, and how weather affects ride times.\n",
    "\n",
    "\n",
    "\n",
    "**Key Findings:**\n",
    "Taxi Companies & Rides: A few companies handled most rides on November 15-16, 2017.\n",
    "Top Drop-off Areas: The busiest neighborhoods were identified, likely key business or residential spots.\n",
    "Weather & Ride Duration: A test showed that rides from the Loop to O’Hare took different times on rainy Saturdays.\n",
    "\n",
    "\n",
    "\n",
    "**Conclusion:**\n",
    "Chicago’s taxi market is dominated by a few companies, and some areas see more drop-offs. Rainy weather affects travel time, which is important for drivers and passengers."
   ]
  },
  {
   "cell_type": "code",
   "execution_count": 2,
   "metadata": {},
   "outputs": [],
   "source": [
    "import pandas as pd \n",
    "import scipy.stats as stats\n",
    "import matplotlib.pyplot as plt\n"
   ]
  },
  {
   "cell_type": "code",
   "execution_count": 3,
   "metadata": {},
   "outputs": [],
   "source": [
    "#Loading the data\n",
    "df = pd.read_csv(\"/datasets/project_sql_result_01.csv\")\n",
    "df2= pd.read_csv(\"/datasets/project_sql_result_04.csv\")\n",
    "df3= pd.read_csv(\"/datasets/project_sql_result_07.csv\")"
   ]
  },
  {
   "cell_type": "code",
   "execution_count": 4,
   "metadata": {},
   "outputs": [
    {
     "name": "stdout",
     "output_type": "stream",
     "text": [
      "<class 'pandas.core.frame.DataFrame'>\n",
      "RangeIndex: 64 entries, 0 to 63\n",
      "Data columns (total 2 columns):\n",
      " #   Column        Non-Null Count  Dtype \n",
      "---  ------        --------------  ----- \n",
      " 0   company_name  64 non-null     object\n",
      " 1   trips_amount  64 non-null     int64 \n",
      "dtypes: int64(1), object(1)\n",
      "memory usage: 1.1+ KB\n",
      "<class 'pandas.core.frame.DataFrame'>\n",
      "RangeIndex: 94 entries, 0 to 93\n",
      "Data columns (total 2 columns):\n",
      " #   Column                 Non-Null Count  Dtype  \n",
      "---  ------                 --------------  -----  \n",
      " 0   dropoff_location_name  94 non-null     object \n",
      " 1   average_trips          94 non-null     float64\n",
      "dtypes: float64(1), object(1)\n",
      "memory usage: 1.6+ KB\n",
      "<class 'pandas.core.frame.DataFrame'>\n",
      "RangeIndex: 1068 entries, 0 to 1067\n",
      "Data columns (total 3 columns):\n",
      " #   Column              Non-Null Count  Dtype  \n",
      "---  ------              --------------  -----  \n",
      " 0   start_ts            1068 non-null   object \n",
      " 1   weather_conditions  1068 non-null   object \n",
      " 2   duration_seconds    1068 non-null   float64\n",
      "dtypes: float64(1), object(2)\n",
      "memory usage: 25.2+ KB\n"
     ]
    }
   ],
   "source": [
    "#checking the data type \n",
    "\n",
    "df.info()\n",
    "df2.info()\n",
    "df3.info()"
   ]
  },
  {
   "cell_type": "code",
   "execution_count": 5,
   "metadata": {},
   "outputs": [
    {
     "name": "stdout",
     "output_type": "stream",
     "text": [
      "company_name    0\n",
      "trips_amount    0\n",
      "dtype: int64\n",
      "dropoff_location_name    0\n",
      "average_trips            0\n",
      "dtype: int64\n",
      "start_ts              0\n",
      "weather_conditions    0\n",
      "duration_seconds      0\n",
      "dtype: int64\n"
     ]
    }
   ],
   "source": [
    "#Checking the missing values \n",
    "\n",
    "missing_values_df= df.isna().sum()\n",
    "print(missing_values_df)\n",
    "\n",
    "missing_values_df2 = df2.isna().sum()\n",
    "print(missing_values_df2)\n",
    "\n",
    "missing_values_df3 = df3.isna().sum()\n",
    "print(missing_values_df3)\n"
   ]
  },
  {
   "cell_type": "code",
   "execution_count": 6,
   "metadata": {},
   "outputs": [
    {
     "data": {
      "text/html": [
       "<div>\n",
       "<style scoped>\n",
       "    .dataframe tbody tr th:only-of-type {\n",
       "        vertical-align: middle;\n",
       "    }\n",
       "\n",
       "    .dataframe tbody tr th {\n",
       "        vertical-align: top;\n",
       "    }\n",
       "\n",
       "    .dataframe thead th {\n",
       "        text-align: right;\n",
       "    }\n",
       "</style>\n",
       "<table border=\"1\" class=\"dataframe\">\n",
       "  <thead>\n",
       "    <tr style=\"text-align: right;\">\n",
       "      <th></th>\n",
       "      <th>trips_amount</th>\n",
       "    </tr>\n",
       "  </thead>\n",
       "  <tbody>\n",
       "    <tr>\n",
       "      <th>count</th>\n",
       "      <td>64.000000</td>\n",
       "    </tr>\n",
       "    <tr>\n",
       "      <th>mean</th>\n",
       "      <td>2145.484375</td>\n",
       "    </tr>\n",
       "    <tr>\n",
       "      <th>std</th>\n",
       "      <td>3812.310186</td>\n",
       "    </tr>\n",
       "    <tr>\n",
       "      <th>min</th>\n",
       "      <td>2.000000</td>\n",
       "    </tr>\n",
       "    <tr>\n",
       "      <th>25%</th>\n",
       "      <td>20.750000</td>\n",
       "    </tr>\n",
       "    <tr>\n",
       "      <th>50%</th>\n",
       "      <td>178.500000</td>\n",
       "    </tr>\n",
       "    <tr>\n",
       "      <th>75%</th>\n",
       "      <td>2106.500000</td>\n",
       "    </tr>\n",
       "    <tr>\n",
       "      <th>max</th>\n",
       "      <td>19558.000000</td>\n",
       "    </tr>\n",
       "  </tbody>\n",
       "</table>\n",
       "</div>"
      ],
      "text/plain": [
       "       trips_amount\n",
       "count     64.000000\n",
       "mean    2145.484375\n",
       "std     3812.310186\n",
       "min        2.000000\n",
       "25%       20.750000\n",
       "50%      178.500000\n",
       "75%     2106.500000\n",
       "max    19558.000000"
      ]
     },
     "execution_count": 6,
     "metadata": {},
     "output_type": "execute_result"
    }
   ],
   "source": [
    "#Trips Statistical Data \n",
    "\n",
    "df.describe()\n"
   ]
  },
  {
   "cell_type": "code",
   "execution_count": 7,
   "metadata": {},
   "outputs": [
    {
     "data": {
      "text/html": [
       "<div>\n",
       "<style scoped>\n",
       "    .dataframe tbody tr th:only-of-type {\n",
       "        vertical-align: middle;\n",
       "    }\n",
       "\n",
       "    .dataframe tbody tr th {\n",
       "        vertical-align: top;\n",
       "    }\n",
       "\n",
       "    .dataframe thead th {\n",
       "        text-align: right;\n",
       "    }\n",
       "</style>\n",
       "<table border=\"1\" class=\"dataframe\">\n",
       "  <thead>\n",
       "    <tr style=\"text-align: right;\">\n",
       "      <th></th>\n",
       "      <th>average_trips</th>\n",
       "    </tr>\n",
       "  </thead>\n",
       "  <tbody>\n",
       "    <tr>\n",
       "      <th>count</th>\n",
       "      <td>94.000000</td>\n",
       "    </tr>\n",
       "    <tr>\n",
       "      <th>mean</th>\n",
       "      <td>599.953728</td>\n",
       "    </tr>\n",
       "    <tr>\n",
       "      <th>std</th>\n",
       "      <td>1714.591098</td>\n",
       "    </tr>\n",
       "    <tr>\n",
       "      <th>min</th>\n",
       "      <td>1.800000</td>\n",
       "    </tr>\n",
       "    <tr>\n",
       "      <th>25%</th>\n",
       "      <td>14.266667</td>\n",
       "    </tr>\n",
       "    <tr>\n",
       "      <th>50%</th>\n",
       "      <td>52.016667</td>\n",
       "    </tr>\n",
       "    <tr>\n",
       "      <th>75%</th>\n",
       "      <td>298.858333</td>\n",
       "    </tr>\n",
       "    <tr>\n",
       "      <th>max</th>\n",
       "      <td>10727.466667</td>\n",
       "    </tr>\n",
       "  </tbody>\n",
       "</table>\n",
       "</div>"
      ],
      "text/plain": [
       "       average_trips\n",
       "count      94.000000\n",
       "mean      599.953728\n",
       "std      1714.591098\n",
       "min         1.800000\n",
       "25%        14.266667\n",
       "50%        52.016667\n",
       "75%       298.858333\n",
       "max     10727.466667"
      ]
     },
     "execution_count": 7,
     "metadata": {},
     "output_type": "execute_result"
    }
   ],
   "source": [
    "#Average Trips Statistical Data\n",
    "\n",
    "df2.describe()"
   ]
  },
  {
   "cell_type": "code",
   "execution_count": 8,
   "metadata": {},
   "outputs": [
    {
     "data": {
      "text/html": [
       "<div>\n",
       "<style scoped>\n",
       "    .dataframe tbody tr th:only-of-type {\n",
       "        vertical-align: middle;\n",
       "    }\n",
       "\n",
       "    .dataframe tbody tr th {\n",
       "        vertical-align: top;\n",
       "    }\n",
       "\n",
       "    .dataframe thead th {\n",
       "        text-align: right;\n",
       "    }\n",
       "</style>\n",
       "<table border=\"1\" class=\"dataframe\">\n",
       "  <thead>\n",
       "    <tr style=\"text-align: right;\">\n",
       "      <th></th>\n",
       "      <th>duration_seconds</th>\n",
       "    </tr>\n",
       "  </thead>\n",
       "  <tbody>\n",
       "    <tr>\n",
       "      <th>count</th>\n",
       "      <td>1068.000000</td>\n",
       "    </tr>\n",
       "    <tr>\n",
       "      <th>mean</th>\n",
       "      <td>2071.731273</td>\n",
       "    </tr>\n",
       "    <tr>\n",
       "      <th>std</th>\n",
       "      <td>769.461125</td>\n",
       "    </tr>\n",
       "    <tr>\n",
       "      <th>min</th>\n",
       "      <td>0.000000</td>\n",
       "    </tr>\n",
       "    <tr>\n",
       "      <th>25%</th>\n",
       "      <td>1438.250000</td>\n",
       "    </tr>\n",
       "    <tr>\n",
       "      <th>50%</th>\n",
       "      <td>1980.000000</td>\n",
       "    </tr>\n",
       "    <tr>\n",
       "      <th>75%</th>\n",
       "      <td>2580.000000</td>\n",
       "    </tr>\n",
       "    <tr>\n",
       "      <th>max</th>\n",
       "      <td>7440.000000</td>\n",
       "    </tr>\n",
       "  </tbody>\n",
       "</table>\n",
       "</div>"
      ],
      "text/plain": [
       "       duration_seconds\n",
       "count       1068.000000\n",
       "mean        2071.731273\n",
       "std          769.461125\n",
       "min            0.000000\n",
       "25%         1438.250000\n",
       "50%         1980.000000\n",
       "75%         2580.000000\n",
       "max         7440.000000"
      ]
     },
     "execution_count": 8,
     "metadata": {},
     "output_type": "execute_result"
    }
   ],
   "source": [
    "#Trips Duration on Different weather conditions Statistical Data \n",
    "\n",
    "df3.describe()"
   ]
  },
  {
   "cell_type": "code",
   "execution_count": 9,
   "metadata": {
    "scrolled": true
   },
   "outputs": [
    {
     "name": "stdout",
     "output_type": "stream",
     "text": [
      "0     False\n",
      "1     False\n",
      "2     False\n",
      "3     False\n",
      "4     False\n",
      "      ...  \n",
      "59    False\n",
      "60    False\n",
      "61    False\n",
      "62    False\n",
      "63    False\n",
      "Length: 64, dtype: bool\n",
      "0     False\n",
      "1     False\n",
      "2     False\n",
      "3     False\n",
      "4     False\n",
      "      ...  \n",
      "89    False\n",
      "90    False\n",
      "91    False\n",
      "92    False\n",
      "93    False\n",
      "Length: 94, dtype: bool\n",
      "0       False\n",
      "1       False\n",
      "2       False\n",
      "3       False\n",
      "4       False\n",
      "        ...  \n",
      "1063    False\n",
      "1064    False\n",
      "1065     True\n",
      "1066     True\n",
      "1067    False\n",
      "Length: 1068, dtype: bool\n"
     ]
    }
   ],
   "source": [
    "#checking for duplicateds \n",
    "\n",
    "dublicated_df = df.duplicated()\n",
    "print(dublicated_df)\n",
    "\n",
    "dublicated_df2 = df2.duplicated()\n",
    "print(dublicated_df2)\n",
    "\n",
    "\n",
    "dublicated_df3 = df3.duplicated()\n",
    "print(dublicated_df3)\n",
    "\n",
    "\n"
   ]
  },
  {
   "cell_type": "markdown",
   "metadata": {},
   "source": [
    "**Conclusion**\n",
    "\n",
    "**The dataset reveals key insights into Chicago taxi rides:**\n",
    "\n",
    "\n",
    "**Taxi Companies:** 64 companies show a wide trip count range (2 to 19,558), indicating uneven demand.\n",
    "\n",
    "\n",
    "\n",
    "**Drop-off Locations:** 94 neighborhoods vary in trip volume, highlighting key business and residential areas.\n",
    "\n",
    "\n",
    "\n",
    "**Ride Duration & Weather:** 1,068 rides from the Loop to O’Hare average ~35 minutes, with weather data available for further analysis.\n",
    "\n",
    "\n",
    "**Data Quality:** No missing values, ensuring reliable insights.\n",
    "Overall, the data is clean and useful for analyzing taxi demand, company performance, and ride duration factors."
   ]
  },
  {
   "cell_type": "code",
   "execution_count": 10,
   "metadata": {},
   "outputs": [],
   "source": [
    "#TOP 10 neighborhoods in terms of drop-offs\n",
    "\n",
    "top_10_neighborhoods = (df2.groupby('dropoff_location_name')['average_trips']\n",
    "                          .sum() \n",
    "                          .sort_values(ascending=False) \n",
    "                          .head(10)  \n",
    "                       )"
   ]
  },
  {
   "cell_type": "code",
   "execution_count": 11,
   "metadata": {},
   "outputs": [
    {
     "data": {
      "image/png": "[encoded data removed]",
      "text/plain": [
       "<Figure size 1000x500 with 1 Axes>"
      ]
     },
     "metadata": {},
     "output_type": "display_data"
    }
   ],
   "source": [
    "# Plot with company_name and trips_amount\n",
    "\n",
    "#Top 40 companies for clear graph \n",
    "top_companies = df.sort_values(by='trips_amount', ascending=False).head(40)  \n",
    "\n",
    "top_companies.plot(x='company_name',\n",
    "                   y='trips_amount',\n",
    "                   kind='bar',\n",
    "                   color='green',\n",
    "                   figsize=(10, 5))\n",
    "\n",
    "plt.xticks(rotation=45, ha='right')\n",
    "plt.show()\n"
   ]
  },
  {
   "cell_type": "code",
   "execution_count": 12,
   "metadata": {},
   "outputs": [
    {
     "data": {
      "image/png": "[encoded data removed]",
      "text/plain": [
       "<Figure size 1000x500 with 1 Axes>"
      ]
     },
     "metadata": {},
     "output_type": "display_data"
    }
   ],
   "source": [
    "\n",
    "# Plot\n",
    "top_10_neighborhoods.plot(kind='bar', figsize=(10, 5), color='royalblue')\n",
    "\n",
    "# Formatting\n",
    "plt.title('Top 10 Neighborhoods by Number of Dropoffs')\n",
    "plt.xlabel('Neighborhood')\n",
    "plt.ylabel('Number of Dropoffs')\n",
    "plt.xticks(rotation=45)  \n",
    "\n",
    "plt.show()"
   ]
  },
  {
   "cell_type": "markdown",
   "metadata": {},
   "source": [
    "**These graphs show data about taxi trips in a city.**\n",
    "\n",
    "**First Graph (Companies and Trips)**\n",
    "\n",
    "Some taxi companies complete many trips, while most do only a few.\n",
    "\"Flash Cab\" is the busiest company, with the highest number of trips.\n",
    "The number of trips drops quickly after the top few companies, meaning a small number of companies handle most of the rides.\n",
    "**Second Graph (Neighborhood Dropoffs)**\n",
    "\n",
    "The most popular drop-off locations are Loop and River North, meaning many people go there by taxi.\n",
    "Other busy areas include Streeterville, West Loop, and O’Hare.\n",
    "Some neighborhoods, like Sheffield & DePaul and Gold Coast, have fewer drop-offs.\n",
    "**Conclusion:**\n",
    "A few taxi companies dominate the market, handling most trips. Also, central areas like Loop and River North are the most common destinations for taxis, showing they are key business and activity hubs."
   ]
  },
  {
   "cell_type": "markdown",
   "metadata": {},
   "source": [
    "**Hypothesis Testing for Ride Duration**\n",
    "**Hypotheses:**\n",
    "\n",
    "**Null Hypothesis (H₀):** Ride duration on rainy Saturdays is the same as non-rainy Saturdays (μ_rainy = μ_non_rainy).\n",
    "**Alternative Hypothesis (H₁):** Ride duration on rainy Saturdays is different from non-rainy Saturdays (μ_rainy ≠ μ_non_rainy).\n",
    "**Significance Level (α): 0.05**\n",
    "\n",
    "**Test Used:** Independent two-sample t-test (since we compare two separate groups).\n",
    "\n",
    "**Steps:**\n",
    "\n",
    "**Prepare Data:**\n",
    "Select only Saturday rides.\n",
    "Split into rainy (Bad weather) and non-rainy groups.\n",
    "**Run t-test:**\n",
    "Use ttest_ind() from scipy.stats to check if the means are different.\n"
   ]
  },
  {
   "cell_type": "code",
   "execution_count": 13,
   "metadata": {},
   "outputs": [
    {
     "name": "stdout",
     "output_type": "stream",
     "text": [
      "T-Test Results: t-statistic = 6.946177714041499, p-value = 6.517970327099473e-12\n",
      "Reject the null hypothesis: Ride duration is different on rainy Saturdays.\n"
     ]
    }
   ],
   "source": [
    "\n",
    "\n",
    "# Convert 'start_ts' to datetime and extract the day of the week\n",
    "df3['start_ts'] = pd.to_datetime(df3['start_ts'])\n",
    "df3['day_of_week'] = df3['start_ts'].dt.dayofweek\n",
    "df3['is_saturday'] = df3['day_of_week'] == 5  \n",
    "\n",
    "# Filter Saturday rides\n",
    "saturday_rides = df3[df3['is_saturday']]\n",
    "rainy_saturday_rides = saturday_rides[saturday_rides['weather_conditions'] == 'Bad']\n",
    "non_rainy_saturday_rides = saturday_rides[saturday_rides['weather_conditions'] != 'Bad']\n",
    "\n",
    "# Perform T-test\n",
    "t_stat, p_value = stats.ttest_ind(rainy_saturday_rides['duration_seconds'], non_rainy_saturday_rides['duration_seconds'])\n",
    "\n",
    "# Print Results\n",
    "alpha = 0.05  # Significance level\n",
    "print(f\"T-Test Results: t-statistic = {t_stat}, p-value = {p_value}\")\n",
    "\n",
    "# Conclusion\n",
    "if p_value < alpha:\n",
    "    print(\"Reject the null hypothesis: Ride duration is different on rainy Saturdays.\")\n",
    "else:\n",
    "    print(\"Fail to reject the null hypothesis: No significant difference in ride duration.\")\n"
   ]
  },
  {
   "cell_type": "markdown",
   "metadata": {},
   "source": [
    "**Conclusion**\n",
    "Since the p-value (≈ 6.52e-12) is much smaller than the significance level (0.05), we reject the null hypothesis. This means there is strong evidence that ride duration on rainy Saturdays is significantly different from non-rainy Saturdays. Rainy weather likely impacts travel time."
   ]
  },
  {
   "cell_type": "markdown",
   "metadata": {},
   "source": [
    "**Project Conclusion**\n",
    "This project looked at Chicago taxi data to find the busiest taxi companies, top drop-off areas, and how weather affects ride times.\n",
    "\n",
    "We found that a few companies handle most taxi rides, with \"Flash Cab\" being the busiest. The most popular drop-off spots were the Loop, River North, and O’Hare, showing these areas have a lot of activity.\n",
    "\n",
    "We also tested if rainy weather changes ride times. The results showed that taxi rides on rainy Saturdays take longer than on dry Saturdays. This means bad weather likely causes delays.\n",
    "\n",
    "These findings can help taxi companies plan better and give passengers a clearer idea of travel times in different weather."
   ]
  }
 ],
 "metadata": {
  "ExecuteTimeLog": [
   {
    "duration": 538,
    "start_time": "2025-02-20T20:21:47.430Z"
   },
   {
    "duration": 11,
    "start_time": "2025-02-20T20:21:58.435Z"
   },
   {
    "duration": 47,
    "start_time": "2025-02-20T20:22:08.176Z"
   },
   {
    "duration": 5,
    "start_time": "2025-02-20T20:23:06.086Z"
   },
   {
    "duration": 13,
    "start_time": "2025-02-20T20:23:20.382Z"
   },
   {
    "duration": 12,
    "start_time": "2025-02-20T20:24:06.434Z"
   },
   {
    "duration": 10,
    "start_time": "2025-02-20T20:25:23.165Z"
   },
   {
    "duration": 13,
    "start_time": "2025-02-20T20:25:49.393Z"
   },
   {
    "duration": 8,
    "start_time": "2025-02-20T20:26:14.646Z"
   },
   {
    "duration": 5,
    "start_time": "2025-02-20T20:29:14.018Z"
   },
   {
    "duration": 6,
    "start_time": "2025-02-20T20:29:53.117Z"
   },
   {
    "duration": 15,
    "start_time": "2025-02-20T20:30:30.320Z"
   },
   {
    "duration": 8,
    "start_time": "2025-02-20T20:30:33.971Z"
   },
   {
    "duration": 6,
    "start_time": "2025-02-20T20:30:35.002Z"
   },
   {
    "duration": 5,
    "start_time": "2025-02-20T20:31:33.128Z"
   },
   {
    "duration": 7,
    "start_time": "2025-02-20T20:31:51.608Z"
   },
   {
    "duration": 17,
    "start_time": "2025-02-20T20:32:54.862Z"
   },
   {
    "duration": 12,
    "start_time": "2025-02-20T20:33:02.616Z"
   },
   {
    "duration": 8,
    "start_time": "2025-02-20T20:36:25.017Z"
   },
   {
    "duration": 16,
    "start_time": "2025-02-20T20:36:45.857Z"
   },
   {
    "duration": 12,
    "start_time": "2025-02-20T20:36:59.189Z"
   },
   {
    "duration": 5,
    "start_time": "2025-02-20T20:37:05.651Z"
   },
   {
    "duration": 6,
    "start_time": "2025-02-20T20:37:52.258Z"
   },
   {
    "duration": 17,
    "start_time": "2025-02-20T20:39:28.076Z"
   },
   {
    "duration": 14,
    "start_time": "2025-02-20T20:39:37.770Z"
   },
   {
    "duration": 15,
    "start_time": "2025-02-20T20:40:52.126Z"
   },
   {
    "duration": 12,
    "start_time": "2025-02-20T20:41:29.416Z"
   },
   {
    "duration": 6,
    "start_time": "2025-02-20T20:41:49.666Z"
   },
   {
    "duration": 13,
    "start_time": "2025-02-20T20:44:07.022Z"
   },
   {
    "duration": 4,
    "start_time": "2025-02-20T20:44:21.537Z"
   },
   {
    "duration": 5,
    "start_time": "2025-02-20T20:46:00.777Z"
   },
   {
    "duration": 5,
    "start_time": "2025-02-20T20:51:50.425Z"
   },
   {
    "duration": 41,
    "start_time": "2025-02-20T20:52:01.366Z"
   },
   {
    "duration": 38,
    "start_time": "2025-02-20T20:52:25.331Z"
   },
   {
    "duration": 39,
    "start_time": "2025-02-20T20:54:30.322Z"
   },
   {
    "duration": 40,
    "start_time": "2025-02-20T20:54:42.421Z"
   },
   {
    "duration": 39,
    "start_time": "2025-02-20T20:55:02.639Z"
   },
   {
    "duration": 2,
    "start_time": "2025-02-20T20:55:10.017Z"
   },
   {
    "duration": 10,
    "start_time": "2025-02-20T20:55:10.025Z"
   },
   {
    "duration": 12,
    "start_time": "2025-02-20T20:55:10.037Z"
   },
   {
    "duration": 5,
    "start_time": "2025-02-20T20:55:10.052Z"
   },
   {
    "duration": 6,
    "start_time": "2025-02-20T20:55:10.059Z"
   },
   {
    "duration": 5,
    "start_time": "2025-02-20T20:55:10.067Z"
   },
   {
    "duration": 68,
    "start_time": "2025-02-20T20:55:10.074Z"
   },
   {
    "duration": 58,
    "start_time": "2025-02-20T20:55:23.414Z"
   },
   {
    "duration": 52,
    "start_time": "2025-02-20T20:55:36.653Z"
   },
   {
    "duration": 3,
    "start_time": "2025-02-20T20:55:45.766Z"
   },
   {
    "duration": 9,
    "start_time": "2025-02-20T20:55:45.771Z"
   },
   {
    "duration": 13,
    "start_time": "2025-02-20T20:55:45.781Z"
   },
   {
    "duration": 6,
    "start_time": "2025-02-20T20:55:45.796Z"
   },
   {
    "duration": 5,
    "start_time": "2025-02-20T20:55:45.803Z"
   },
   {
    "duration": 5,
    "start_time": "2025-02-20T20:55:45.810Z"
   },
   {
    "duration": 44,
    "start_time": "2025-02-20T20:55:45.816Z"
   },
   {
    "duration": 1055,
    "start_time": "2025-02-20T20:56:33.837Z"
   },
   {
    "duration": 1074,
    "start_time": "2025-02-20T20:56:53.315Z"
   },
   {
    "duration": 3,
    "start_time": "2025-02-20T20:57:20.194Z"
   },
   {
    "duration": 8,
    "start_time": "2025-02-20T20:57:20.201Z"
   },
   {
    "duration": 12,
    "start_time": "2025-02-20T20:57:20.210Z"
   },
   {
    "duration": 5,
    "start_time": "2025-02-20T20:57:20.225Z"
   },
   {
    "duration": 5,
    "start_time": "2025-02-20T20:57:20.232Z"
   },
   {
    "duration": 6,
    "start_time": "2025-02-20T20:57:20.238Z"
   },
   {
    "duration": 1032,
    "start_time": "2025-02-20T20:57:20.246Z"
   },
   {
    "duration": 18,
    "start_time": "2025-02-20T20:57:32.114Z"
   },
   {
    "duration": 1009,
    "start_time": "2025-02-20T20:57:36.568Z"
   },
   {
    "duration": 4,
    "start_time": "2025-02-20T20:58:07.808Z"
   },
   {
    "duration": 2,
    "start_time": "2025-02-20T20:58:20.069Z"
   },
   {
    "duration": 8,
    "start_time": "2025-02-20T20:58:20.075Z"
   },
   {
    "duration": 13,
    "start_time": "2025-02-20T20:58:20.085Z"
   },
   {
    "duration": 5,
    "start_time": "2025-02-20T20:58:20.100Z"
   },
   {
    "duration": 5,
    "start_time": "2025-02-20T20:58:20.107Z"
   },
   {
    "duration": 5,
    "start_time": "2025-02-20T20:58:20.115Z"
   },
   {
    "duration": 5,
    "start_time": "2025-02-20T20:58:20.122Z"
   },
   {
    "duration": 1034,
    "start_time": "2025-02-20T20:58:20.129Z"
   },
   {
    "duration": 1055,
    "start_time": "2025-02-20T20:58:36.423Z"
   },
   {
    "duration": 1048,
    "start_time": "2025-02-20T20:58:48.762Z"
   },
   {
    "duration": 1097,
    "start_time": "2025-02-20T20:59:51.159Z"
   },
   {
    "duration": 445,
    "start_time": "2025-02-20T21:02:44.411Z"
   },
   {
    "duration": 1197,
    "start_time": "2025-02-20T21:02:54.572Z"
   },
   {
    "duration": 59,
    "start_time": "2025-02-20T21:03:57.968Z"
   },
   {
    "duration": 24,
    "start_time": "2025-02-20T21:04:14.977Z"
   },
   {
    "duration": 1163,
    "start_time": "2025-02-20T21:30:08.492Z"
   },
   {
    "duration": 265,
    "start_time": "2025-02-20T21:34:29.632Z"
   },
   {
    "duration": 2,
    "start_time": "2025-02-20T21:34:34.918Z"
   },
   {
    "duration": 9,
    "start_time": "2025-02-20T21:34:34.924Z"
   },
   {
    "duration": 12,
    "start_time": "2025-02-20T21:34:34.935Z"
   },
   {
    "duration": 5,
    "start_time": "2025-02-20T21:34:34.949Z"
   },
   {
    "duration": 5,
    "start_time": "2025-02-20T21:34:34.956Z"
   },
   {
    "duration": 6,
    "start_time": "2025-02-20T21:34:34.962Z"
   },
   {
    "duration": 5,
    "start_time": "2025-02-20T21:34:34.969Z"
   },
   {
    "duration": 1062,
    "start_time": "2025-02-20T21:34:34.975Z"
   },
   {
    "duration": 1195,
    "start_time": "2025-02-20T21:34:36.039Z"
   },
   {
    "duration": 43,
    "start_time": "2025-02-20T21:34:37.236Z"
   },
   {
    "duration": 149,
    "start_time": "2025-02-20T21:34:50.933Z"
   },
   {
    "duration": 4,
    "start_time": "2025-02-20T21:35:35.148Z"
   },
   {
    "duration": 3,
    "start_time": "2025-02-20T21:35:56.525Z"
   },
   {
    "duration": 10,
    "start_time": "2025-02-20T21:35:56.530Z"
   },
   {
    "duration": 13,
    "start_time": "2025-02-20T21:35:56.541Z"
   },
   {
    "duration": 5,
    "start_time": "2025-02-20T21:35:56.557Z"
   },
   {
    "duration": 5,
    "start_time": "2025-02-20T21:35:56.564Z"
   },
   {
    "duration": 7,
    "start_time": "2025-02-20T21:35:56.570Z"
   },
   {
    "duration": 4,
    "start_time": "2025-02-20T21:35:56.579Z"
   },
   {
    "duration": 1042,
    "start_time": "2025-02-20T21:35:56.585Z"
   },
   {
    "duration": 1307,
    "start_time": "2025-02-20T21:35:57.630Z"
   },
   {
    "duration": 149,
    "start_time": "2025-02-20T21:35:58.940Z"
   },
   {
    "duration": 162,
    "start_time": "2025-02-21T19:23:26.407Z"
   },
   {
    "duration": 2154,
    "start_time": "2025-02-21T19:23:29.938Z"
   },
   {
    "duration": 18,
    "start_time": "2025-02-21T19:23:32.095Z"
   },
   {
    "duration": 13,
    "start_time": "2025-02-21T19:23:32.115Z"
   },
   {
    "duration": 44,
    "start_time": "2025-02-21T19:23:32.130Z"
   },
   {
    "duration": 0,
    "start_time": "2025-02-21T19:23:32.176Z"
   },
   {
    "duration": 0,
    "start_time": "2025-02-21T19:23:32.177Z"
   },
   {
    "duration": 0,
    "start_time": "2025-02-21T19:23:32.178Z"
   },
   {
    "duration": 0,
    "start_time": "2025-02-21T19:23:32.180Z"
   },
   {
    "duration": 0,
    "start_time": "2025-02-21T19:23:32.181Z"
   },
   {
    "duration": 0,
    "start_time": "2025-02-21T19:23:32.182Z"
   },
   {
    "duration": 361,
    "start_time": "2025-02-21T19:24:07.918Z"
   },
   {
    "duration": 10,
    "start_time": "2025-02-21T19:24:08.282Z"
   },
   {
    "duration": 12,
    "start_time": "2025-02-21T19:24:08.294Z"
   },
   {
    "duration": 60,
    "start_time": "2025-02-21T19:24:08.309Z"
   },
   {
    "duration": 0,
    "start_time": "2025-02-21T19:24:08.371Z"
   },
   {
    "duration": 0,
    "start_time": "2025-02-21T19:24:08.372Z"
   },
   {
    "duration": 0,
    "start_time": "2025-02-21T19:24:08.373Z"
   },
   {
    "duration": 0,
    "start_time": "2025-02-21T19:24:08.375Z"
   },
   {
    "duration": 0,
    "start_time": "2025-02-21T19:24:08.376Z"
   },
   {
    "duration": 0,
    "start_time": "2025-02-21T19:24:08.377Z"
   },
   {
    "duration": 14,
    "start_time": "2025-02-21T19:24:28.096Z"
   },
   {
    "duration": 5,
    "start_time": "2025-02-21T19:24:40.139Z"
   },
   {
    "duration": 17,
    "start_time": "2025-02-21T19:25:27.045Z"
   },
   {
    "duration": 24,
    "start_time": "2025-02-21T19:26:05.729Z"
   },
   {
    "duration": 107,
    "start_time": "2025-02-21T19:26:18.967Z"
   },
   {
    "duration": 29,
    "start_time": "2025-02-21T19:28:00.053Z"
   },
   {
    "duration": 0,
    "start_time": "2025-02-21T19:29:06.652Z"
   },
   {
    "duration": 59,
    "start_time": "2025-02-21T19:29:21.721Z"
   },
   {
    "duration": 13,
    "start_time": "2025-02-21T19:30:07.146Z"
   },
   {
    "duration": 10,
    "start_time": "2025-02-21T19:30:50.058Z"
   },
   {
    "duration": 14,
    "start_time": "2025-02-21T19:32:00.522Z"
   },
   {
    "duration": 6,
    "start_time": "2025-02-21T19:33:08.350Z"
   },
   {
    "duration": 6,
    "start_time": "2025-02-21T19:33:18.644Z"
   },
   {
    "duration": 10,
    "start_time": "2025-02-21T19:33:41.456Z"
   },
   {
    "duration": 11,
    "start_time": "2025-02-21T19:34:33.888Z"
   },
   {
    "duration": 2,
    "start_time": "2025-02-21T19:34:41.589Z"
   },
   {
    "duration": 14,
    "start_time": "2025-02-21T19:34:41.594Z"
   },
   {
    "duration": 17,
    "start_time": "2025-02-21T19:34:41.610Z"
   },
   {
    "duration": 6,
    "start_time": "2025-02-21T19:34:41.629Z"
   },
   {
    "duration": 5,
    "start_time": "2025-02-21T19:34:41.637Z"
   },
   {
    "duration": 11,
    "start_time": "2025-02-21T19:34:41.643Z"
   },
   {
    "duration": 6,
    "start_time": "2025-02-21T19:34:41.655Z"
   },
   {
    "duration": 4,
    "start_time": "2025-02-21T19:34:41.663Z"
   },
   {
    "duration": 1051,
    "start_time": "2025-02-21T19:34:41.669Z"
   },
   {
    "duration": 1145,
    "start_time": "2025-02-21T19:34:42.722Z"
   },
   {
    "duration": 157,
    "start_time": "2025-02-21T19:34:43.869Z"
   },
   {
    "duration": 12,
    "start_time": "2025-02-21T19:34:44.031Z"
   },
   {
    "duration": 11,
    "start_time": "2025-02-21T19:37:10.543Z"
   },
   {
    "duration": 15,
    "start_time": "2025-02-21T19:37:21.945Z"
   },
   {
    "duration": 8,
    "start_time": "2025-02-21T19:37:27.178Z"
   },
   {
    "duration": 8,
    "start_time": "2025-02-21T19:38:39.406Z"
   },
   {
    "duration": 473,
    "start_time": "2025-02-21T19:41:57.784Z"
   },
   {
    "duration": 14,
    "start_time": "2025-02-21T19:42:36.310Z"
   },
   {
    "duration": 12,
    "start_time": "2025-02-21T19:42:52.493Z"
   },
   {
    "duration": 11,
    "start_time": "2025-02-21T19:43:50.661Z"
   },
   {
    "duration": 1230,
    "start_time": "2025-02-21T19:51:40.301Z"
   },
   {
    "duration": 165,
    "start_time": "2025-02-21T19:52:46.256Z"
   },
   {
    "duration": 188,
    "start_time": "2025-02-21T19:53:00.185Z"
   },
   {
    "duration": 218,
    "start_time": "2025-02-21T19:53:07.305Z"
   },
   {
    "duration": 256,
    "start_time": "2025-02-21T19:53:13.534Z"
   },
   {
    "duration": 297,
    "start_time": "2025-02-21T19:53:27.039Z"
   },
   {
    "duration": 527,
    "start_time": "2025-02-21T19:53:35.830Z"
   },
   {
    "duration": 460,
    "start_time": "2025-02-21T19:54:23.303Z"
   },
   {
    "duration": 145,
    "start_time": "2025-02-21T19:54:24.099Z"
   },
   {
    "duration": 465,
    "start_time": "2025-02-21T19:55:41.962Z"
   },
   {
    "duration": 436,
    "start_time": "2025-02-21T19:56:08.246Z"
   },
   {
    "duration": 467,
    "start_time": "2025-02-21T19:56:19.555Z"
   },
   {
    "duration": 3,
    "start_time": "2025-02-21T19:58:51.558Z"
   },
   {
    "duration": 11,
    "start_time": "2025-02-21T19:58:52.093Z"
   },
   {
    "duration": 18,
    "start_time": "2025-02-21T19:58:53.184Z"
   },
   {
    "duration": 6,
    "start_time": "2025-02-21T19:58:53.880Z"
   },
   {
    "duration": 6,
    "start_time": "2025-02-21T19:58:54.392Z"
   },
   {
    "duration": 4,
    "start_time": "2025-02-21T19:58:56.692Z"
   },
   {
    "duration": 6,
    "start_time": "2025-02-21T19:58:57.438Z"
   },
   {
    "duration": 4,
    "start_time": "2025-02-21T19:58:58.182Z"
   },
   {
    "duration": 8,
    "start_time": "2025-02-21T20:01:38.134Z"
   },
   {
    "duration": 7,
    "start_time": "2025-02-21T20:02:02.210Z"
   },
   {
    "duration": 35,
    "start_time": "2025-02-21T20:03:00.627Z"
   },
   {
    "duration": 17,
    "start_time": "2025-02-21T20:03:47.512Z"
   },
   {
    "duration": 3,
    "start_time": "2025-02-21T20:03:56.292Z"
   },
   {
    "duration": 12,
    "start_time": "2025-02-21T20:03:56.298Z"
   },
   {
    "duration": 16,
    "start_time": "2025-02-21T20:03:56.312Z"
   },
   {
    "duration": 7,
    "start_time": "2025-02-21T20:03:56.331Z"
   },
   {
    "duration": 5,
    "start_time": "2025-02-21T20:03:56.340Z"
   },
   {
    "duration": 16,
    "start_time": "2025-02-21T20:03:56.346Z"
   },
   {
    "duration": 0,
    "start_time": "2025-02-21T20:03:56.364Z"
   },
   {
    "duration": 0,
    "start_time": "2025-02-21T20:03:56.365Z"
   },
   {
    "duration": 0,
    "start_time": "2025-02-21T20:03:56.366Z"
   },
   {
    "duration": 0,
    "start_time": "2025-02-21T20:03:56.368Z"
   },
   {
    "duration": 9,
    "start_time": "2025-02-21T20:04:27.147Z"
   },
   {
    "duration": 9,
    "start_time": "2025-02-21T20:04:36.066Z"
   },
   {
    "duration": 3,
    "start_time": "2025-02-21T20:04:52.786Z"
   },
   {
    "duration": 10,
    "start_time": "2025-02-21T20:04:52.791Z"
   },
   {
    "duration": 18,
    "start_time": "2025-02-21T20:04:52.803Z"
   },
   {
    "duration": 6,
    "start_time": "2025-02-21T20:04:52.823Z"
   },
   {
    "duration": 5,
    "start_time": "2025-02-21T20:04:52.832Z"
   },
   {
    "duration": 8,
    "start_time": "2025-02-21T20:04:52.838Z"
   },
   {
    "duration": 4,
    "start_time": "2025-02-21T20:04:52.847Z"
   },
   {
    "duration": 529,
    "start_time": "2025-02-21T20:04:52.853Z"
   },
   {
    "duration": 171,
    "start_time": "2025-02-21T20:04:53.384Z"
   },
   {
    "duration": 10,
    "start_time": "2025-02-21T20:04:53.557Z"
   },
   {
    "duration": 137,
    "start_time": "2025-02-21T20:07:33.663Z"
   },
   {
    "duration": 2,
    "start_time": "2025-02-21T20:07:39.519Z"
   },
   {
    "duration": 11,
    "start_time": "2025-02-21T20:07:39.525Z"
   },
   {
    "duration": 17,
    "start_time": "2025-02-21T20:07:39.537Z"
   },
   {
    "duration": 6,
    "start_time": "2025-02-21T20:07:39.556Z"
   },
   {
    "duration": 4,
    "start_time": "2025-02-21T20:07:39.564Z"
   },
   {
    "duration": 7,
    "start_time": "2025-02-21T20:07:39.570Z"
   },
   {
    "duration": 4,
    "start_time": "2025-02-21T20:07:39.578Z"
   },
   {
    "duration": 67,
    "start_time": "2025-02-21T20:07:39.584Z"
   },
   {
    "duration": 0,
    "start_time": "2025-02-21T20:07:39.653Z"
   },
   {
    "duration": 0,
    "start_time": "2025-02-21T20:07:39.654Z"
   },
   {
    "duration": 507,
    "start_time": "2025-02-21T20:08:03.330Z"
   },
   {
    "duration": 10,
    "start_time": "2025-02-21T20:09:15.796Z"
   },
   {
    "duration": 15,
    "start_time": "2025-02-21T20:10:17.857Z"
   },
   {
    "duration": 15,
    "start_time": "2025-02-21T20:10:25.003Z"
   },
   {
    "duration": 10,
    "start_time": "2025-02-21T20:10:47.512Z"
   },
   {
    "duration": 10,
    "start_time": "2025-02-21T20:11:41.791Z"
   },
   {
    "duration": 11,
    "start_time": "2025-02-21T20:12:29.370Z"
   },
   {
    "duration": 161,
    "start_time": "2025-02-21T20:13:55.793Z"
   },
   {
    "duration": 294,
    "start_time": "2025-02-21T20:16:01.108Z"
   },
   {
    "duration": 3,
    "start_time": "2025-02-21T20:27:01.336Z"
   },
   {
    "duration": 13,
    "start_time": "2025-02-21T20:27:01.349Z"
   },
   {
    "duration": 18,
    "start_time": "2025-02-21T20:27:01.365Z"
   },
   {
    "duration": 7,
    "start_time": "2025-02-21T20:27:01.385Z"
   },
   {
    "duration": 9,
    "start_time": "2025-02-21T20:27:01.394Z"
   },
   {
    "duration": 25,
    "start_time": "2025-02-21T20:27:01.407Z"
   },
   {
    "duration": 10,
    "start_time": "2025-02-21T20:27:01.434Z"
   },
   {
    "duration": 4,
    "start_time": "2025-02-21T20:27:01.446Z"
   },
   {
    "duration": 8,
    "start_time": "2025-02-21T20:27:01.452Z"
   },
   {
    "duration": 4,
    "start_time": "2025-02-21T20:27:01.461Z"
   },
   {
    "duration": 536,
    "start_time": "2025-02-21T20:27:01.467Z"
   },
   {
    "duration": 178,
    "start_time": "2025-02-21T20:27:02.004Z"
   },
   {
    "duration": 11,
    "start_time": "2025-02-21T20:27:02.183Z"
   },
   {
    "duration": 2563,
    "start_time": "2025-02-21T22:44:09.854Z"
   },
   {
    "duration": 19,
    "start_time": "2025-02-21T22:44:12.419Z"
   },
   {
    "duration": 17,
    "start_time": "2025-02-21T22:44:12.440Z"
   },
   {
    "duration": 6,
    "start_time": "2025-02-21T22:44:12.459Z"
   },
   {
    "duration": 10,
    "start_time": "2025-02-21T22:44:12.468Z"
   },
   {
    "duration": 33,
    "start_time": "2025-02-21T22:44:12.480Z"
   },
   {
    "duration": 9,
    "start_time": "2025-02-21T22:44:12.515Z"
   },
   {
    "duration": 5,
    "start_time": "2025-02-21T22:44:12.525Z"
   },
   {
    "duration": 7,
    "start_time": "2025-02-21T22:44:12.532Z"
   },
   {
    "duration": 4,
    "start_time": "2025-02-21T22:44:12.541Z"
   },
   {
    "duration": 507,
    "start_time": "2025-02-21T22:44:12.546Z"
   },
   {
    "duration": 162,
    "start_time": "2025-02-21T22:44:13.055Z"
   },
   {
    "duration": 11,
    "start_time": "2025-02-21T22:44:13.219Z"
   },
   {
    "duration": 163,
    "start_time": "2025-02-23T22:04:29.176Z"
   },
   {
    "duration": 2513,
    "start_time": "2025-02-23T22:04:38.726Z"
   },
   {
    "duration": 21,
    "start_time": "2025-02-23T22:04:41.242Z"
   },
   {
    "duration": 17,
    "start_time": "2025-02-23T22:04:41.266Z"
   },
   {
    "duration": 6,
    "start_time": "2025-02-23T22:04:41.286Z"
   },
   {
    "duration": 11,
    "start_time": "2025-02-23T22:04:41.294Z"
   },
   {
    "duration": 22,
    "start_time": "2025-02-23T22:04:41.307Z"
   },
   {
    "duration": 9,
    "start_time": "2025-02-23T22:04:41.330Z"
   },
   {
    "duration": 6,
    "start_time": "2025-02-23T22:04:41.341Z"
   },
   {
    "duration": 3,
    "start_time": "2025-02-23T22:04:41.349Z"
   },
   {
    "duration": 490,
    "start_time": "2025-02-23T22:04:41.355Z"
   },
   {
    "duration": 143,
    "start_time": "2025-02-23T22:04:41.847Z"
   },
   {
    "duration": 88,
    "start_time": "2025-02-23T22:04:41.992Z"
   },
   {
    "duration": 12,
    "start_time": "2025-02-23T22:05:13.362Z"
   },
   {
    "duration": 14,
    "start_time": "2025-02-23T22:07:31.180Z"
   },
   {
    "duration": 11,
    "start_time": "2025-02-23T22:07:41.482Z"
   },
   {
    "duration": 11,
    "start_time": "2025-02-23T22:08:06.823Z"
   },
   {
    "duration": 12,
    "start_time": "2025-02-23T22:08:14.775Z"
   },
   {
    "duration": 11,
    "start_time": "2025-02-23T22:08:26.599Z"
   },
   {
    "duration": 10,
    "start_time": "2025-02-23T22:09:13.790Z"
   },
   {
    "duration": 13,
    "start_time": "2025-02-23T22:09:56.539Z"
   },
   {
    "duration": 10,
    "start_time": "2025-02-23T22:12:19.220Z"
   },
   {
    "duration": 3,
    "start_time": "2025-02-23T22:16:29.071Z"
   },
   {
    "duration": 11,
    "start_time": "2025-02-23T22:16:29.078Z"
   },
   {
    "duration": 17,
    "start_time": "2025-02-23T22:16:32.737Z"
   },
   {
    "duration": 6,
    "start_time": "2025-02-23T22:16:32.757Z"
   },
   {
    "duration": 9,
    "start_time": "2025-02-23T22:16:35.470Z"
   },
   {
    "duration": 8,
    "start_time": "2025-02-23T22:16:35.481Z"
   },
   {
    "duration": 8,
    "start_time": "2025-02-23T22:16:35.512Z"
   },
   {
    "duration": 7,
    "start_time": "2025-02-23T22:16:35.522Z"
   },
   {
    "duration": 3,
    "start_time": "2025-02-23T22:16:35.530Z"
   },
   {
    "duration": 464,
    "start_time": "2025-02-23T22:16:35.536Z"
   },
   {
    "duration": 158,
    "start_time": "2025-02-23T22:16:36.002Z"
   },
   {
    "duration": 11,
    "start_time": "2025-02-23T22:16:36.162Z"
   },
   {
    "duration": 2526,
    "start_time": "2025-02-23T23:03:52.510Z"
   },
   {
    "duration": 23,
    "start_time": "2025-02-23T23:03:55.038Z"
   },
   {
    "duration": 19,
    "start_time": "2025-02-23T23:03:55.062Z"
   },
   {
    "duration": 7,
    "start_time": "2025-02-23T23:03:55.083Z"
   },
   {
    "duration": 12,
    "start_time": "2025-02-23T23:03:55.093Z"
   },
   {
    "duration": 8,
    "start_time": "2025-02-23T23:03:55.106Z"
   },
   {
    "duration": 8,
    "start_time": "2025-02-23T23:03:55.115Z"
   },
   {
    "duration": 7,
    "start_time": "2025-02-23T23:03:55.124Z"
   },
   {
    "duration": 4,
    "start_time": "2025-02-23T23:03:55.133Z"
   },
   {
    "duration": 496,
    "start_time": "2025-02-23T23:03:55.139Z"
   },
   {
    "duration": 151,
    "start_time": "2025-02-23T23:03:55.637Z"
   },
   {
    "duration": 10,
    "start_time": "2025-02-23T23:03:55.790Z"
   },
   {
    "duration": 169,
    "start_time": "2025-02-25T19:36:49.376Z"
   },
   {
    "duration": 2560,
    "start_time": "2025-02-25T19:36:56.670Z"
   },
   {
    "duration": 29,
    "start_time": "2025-02-25T19:36:59.232Z"
   },
   {
    "duration": 18,
    "start_time": "2025-02-25T19:36:59.263Z"
   },
   {
    "duration": 5,
    "start_time": "2025-02-25T19:36:59.283Z"
   },
   {
    "duration": 11,
    "start_time": "2025-02-25T19:36:59.290Z"
   },
   {
    "duration": 8,
    "start_time": "2025-02-25T19:36:59.303Z"
   },
   {
    "duration": 8,
    "start_time": "2025-02-25T19:36:59.312Z"
   },
   {
    "duration": 27,
    "start_time": "2025-02-25T19:36:59.322Z"
   },
   {
    "duration": 6,
    "start_time": "2025-02-25T19:36:59.351Z"
   },
   {
    "duration": 523,
    "start_time": "2025-02-25T19:36:59.360Z"
   },
   {
    "duration": 143,
    "start_time": "2025-02-25T19:36:59.885Z"
   },
   {
    "duration": 19,
    "start_time": "2025-02-25T19:37:00.030Z"
   }
  ],
  "kernelspec": {
   "display_name": "Python 3 (ipykernel)",
   "language": "python",
   "name": "python3"
  },
  "language_info": {
   "codemirror_mode": {
    "name": "ipython",
    "version": 3
   },
   "file_extension": ".py",
   "mimetype": "text/x-python",
   "name": "python",
   "nbconvert_exporter": "python",
   "pygments_lexer": "ipython3",
   "version": "3.9.19"
  },
  "toc": {
   "base_numbering": 1,
   "nav_menu": {},
   "number_sections": true,
   "sideBar": true,
   "skip_h1_title": true,
   "title_cell": "Table of Contents",
   "title_sidebar": "Contents",
   "toc_cell": false,
   "toc_position": {},
   "toc_section_display": true,
   "toc_window_display": false
  }
 },
 "nbformat": 4,
 "nbformat_minor": 2
}
